{
 "cells": [
  {
   "cell_type": "markdown",
   "metadata": {},
   "source": [
    "# Exploration of Region Based CNN's \n",
    "## Verschil tussen RCNN, fastRCNN en faster RCNN"
   ]
  },
  {
   "cell_type": "markdown",
   "metadata": {},
   "source": [
    "RCNN is het uitvoeren van CNN per mask op een afbeelding. Het voordeel hiervan: Locatie gericht classificeren en locatie invariante object herkenning. Wanneer een object altijd op dezelfde plek van de afbeelding zit, dan kan een CNN gebruikt worden. Dit komt omdat de filters die gebruikt worden zich gaan aanpassen aan de vormen op een locatie, maar als het object niet op dezelfde locatie in de afbeelding zit, kunnen de filters zich hier ook niet op aanpassen. RCNN voorkomt dit, maar heeft een groot nadeel. Het is echt heel langzaam. Echt heel langzaam. Forward propagation kan al 90s duren [Kortus 2019]. Dit is aangepakt in andere algoritmes genaamd fast en faster RCNN. Deze zijn sneller (Duh). "
   ]
  },
  {
   "cell_type": "code",
   "execution_count": 2,
   "metadata": {},
   "outputs": [],
   "source": [
    "import numpy as np\n",
    "import pandas as pd\n",
    "import matplotlib.pyplot as plt\n",
    "%matplotlib inline\n",
    "\n",
    "import torch\n",
    "from torch.utils.data import DataLoader, Dataset\n",
    "import torchvision\n",
    "from torchvision import transforms"
   ]
  },
  {
   "cell_type": "code",
   "execution_count": 3,
   "metadata": {},
   "outputs": [
    {
     "name": "stdout",
     "output_type": "stream",
     "text": [
      "1.1.0\n"
     ]
    }
   ],
   "source": [
    "print(torch.__version__)"
   ]
  },
  {
   "cell_type": "code",
   "execution_count": null,
   "metadata": {},
   "outputs": [],
   "source": [
    "class DatasetMalaria(Dataset):\n",
    "    def __init__(self, filepath, transform = None):\n",
    "        self.data = pd.read_csv(filepath)\n",
    "        self.transform = transform\n",
    "        \n",
    "    def __len__(self):\n",
    "        return len(self.data)\n",
    "    \n",
    "    def __getitem__(self, index):\n",
    "        print(1)\n",
    "        # voeg alles nog toe"
   ]
  }
 ],
 "metadata": {
  "kernelspec": {
   "display_name": "Python 3",
   "language": "python",
   "name": "python3"
  },
  "language_info": {
   "codemirror_mode": {
    "name": "ipython",
    "version": 3
   },
   "file_extension": ".py",
   "mimetype": "text/x-python",
   "name": "python",
   "nbconvert_exporter": "python",
   "pygments_lexer": "ipython3",
   "version": "3.7.3"
  }
 },
 "nbformat": 4,
 "nbformat_minor": 2
}
