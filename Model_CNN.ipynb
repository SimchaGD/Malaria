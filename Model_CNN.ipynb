{
 "cells": [
  {
   "cell_type": "markdown",
   "metadata": {},
   "source": [
    "# Trying CNN "
   ]
  },
  {
   "cell_type": "code",
   "execution_count": 1,
   "metadata": {},
   "outputs": [],
   "source": [
    "import torch\n",
    "import pandas as pd\n",
    "import numpy as np\n",
    "import torchvision\n",
    "from torchvision import transforms\n",
    "import torch.nn.functional as F\n",
    "from torch.utils.data import DataLoader, Dataset\n",
    "import time\n",
    "\n",
    "import torch.nn as nn\n",
    "import torch.nn.functional as F\n",
    "import torch.optim as optim\n",
    "\n",
    "from tqdm import tqdm as tqdm\n",
    "from IPython.display import clear_output\n",
    "\n",
    "from Network import *\n",
    "from TorchMalaria import *\n",
    "\n",
    "import matplotlib.pyplot as plt\n",
    "from skimage.transform import resize\n",
    "\n",
    "torch.set_num_threads(2)"
   ]
  },
  {
   "cell_type": "code",
   "execution_count": 2,
   "metadata": {},
   "outputs": [],
   "source": [
    "data = DataMalaria(\"list_of_imagenames_with_label.csv\", transform=torchvision.transforms.ToTensor(), TTS = True)"
   ]
  },
  {
   "cell_type": "code",
   "execution_count": 3,
   "metadata": {},
   "outputs": [
    {
     "data": {
      "text/plain": [
       "6890"
      ]
     },
     "execution_count": 3,
     "metadata": {},
     "output_type": "execute_result"
    }
   ],
   "source": [
    "data.testmode()\n",
    "len(data)"
   ]
  },
  {
   "cell_type": "code",
   "execution_count": 4,
   "metadata": {},
   "outputs": [
    {
     "data": {
      "text/plain": [
       "103.34"
      ]
     },
     "execution_count": 4,
     "metadata": {},
     "output_type": "execute_result"
    }
   ],
   "source": [
    "data.trainmode()\n",
    "batchsize = 200\n",
    "trainloader = DataLoader(data, batch_size = batchsize, shuffle = True)\n",
    "len(data)/batchsize"
   ]
  },
  {
   "cell_type": "code",
   "execution_count": 5,
   "metadata": {},
   "outputs": [
    {
     "name": "stderr",
     "output_type": "stream",
     "text": [
      "C:\\Users\\simcha\\Anaconda3\\lib\\site-packages\\skimage\\transform\\_warps.py:105: UserWarning: The default mode, 'constant', will be changed to 'reflect' in skimage 0.15.\n",
      "  warn(\"The default mode, 'constant', will be changed to 'reflect' in \"\n"
     ]
    },
    {
     "data": {
      "image/png": "[encoded data removed]",
      "text/plain": [
       "<Figure size 432x288 with 1 Axes>"
      ]
     },
     "metadata": {
      "needs_background": "light"
     },
     "output_type": "display_data"
    }
   ],
   "source": [
    "image, label = data[0]\n",
    "data.imshowsingle(0)"
   ]
  },
  {
   "cell_type": "code",
   "execution_count": 6,
   "metadata": {},
   "outputs": [],
   "source": [
    "trainIter = iter(trainloader)\n",
    "\n",
    "batch = next(trainIter)\n",
    "images, labels = batch\n",
    "if len(images) < 10:\n",
    "    # make grid takes tensor as arg\n",
    "    # tensor : (batchsize, channels, height, width)\n",
    "    grid = torchvision.utils.make_grid(images)\n",
    "    fig = plt.figure(figsize=(10, 80))\n",
    "    plt.imshow(grid.numpy().transpose((1, 2, 0)))\n",
    "    plt.axis('off')\n",
    "    plt.title(labels.numpy())\n",
    "    plt.show()"
   ]
  },
  {
   "cell_type": "code",
   "execution_count": 7,
   "metadata": {},
   "outputs": [
    {
     "name": "stdout",
     "output_type": "stream",
     "text": [
      "Loss 1: 0.6952082935947689\n",
      "Loss 2: 1.0338117564279674\n"
     ]
    }
   ],
   "source": [
    "# initialize network and optimizer\n",
    "network = Network()\n",
    "network.double()\n",
    "optimizer = optim.Adam(network.parameters(), lr = 0.01)\n",
    "\n",
    "batch = next(iter(trainloader))\n",
    "images, labels = batch\n",
    "\n",
    "# forward pass + calculate loss\n",
    "preds = network(images)\n",
    "loss = F.cross_entropy(preds.double(), labels)\n",
    "\n",
    "# backward propagation + updating weights\n",
    "loss.backward()\n",
    "optimizer.step()\n",
    "\n",
    "################################\n",
    "\n",
    "print(\"Loss 1: {}\".format(loss.item()))\n",
    "preds = network(images.double())\n",
    "loss = F.cross_entropy(preds, labels)\n",
    "print(\"Loss 2: {}\".format(loss.item()))"
   ]
  },
  {
   "cell_type": "code",
   "execution_count": 8,
   "metadata": {},
   "outputs": [
    {
     "name": "stdout",
     "output_type": "stream",
     "text": [
      "20668/20668\n",
      "epoch: 2\n",
      "TotalCorrect: 19625\n",
      "TotalLoss: 15.93797498864425\n",
      "\n",
      "Time: 318.5s\n",
      "Accuracy: 0.9495355138378169\n",
      "\n",
      "\n"
     ]
    }
   ],
   "source": [
    "data.trainmode()\n",
    "network = Network()\n",
    "network.double()\n",
    "network.load_state_dict(torch.load(\"NetworkModel.pt\"))\n",
    "optimizer = optim.Adam(network.parameters(), lr = 0.005)\n",
    "\n",
    "nEpochs = 3\n",
    "\n",
    "\n",
    "for epoch in range(nEpochs):\n",
    "    totalLoss = 0\n",
    "    totalCorrect = 0\n",
    "    counter = 0\n",
    "    t = time.time()\n",
    "    \n",
    "    for batch in trainloader:\n",
    "        images, labels = batch\n",
    "        \n",
    "        # forward pass + calculate loss\n",
    "        preds = network(images)\n",
    "        loss = F.cross_entropy(preds, labels)\n",
    "\n",
    "        # PyTorch telt alle gradienten op. Daarom moet de gradient gereset worden.\n",
    "        optimizer.zero_grad()\n",
    "\n",
    "        # backward propagation + updating weights\n",
    "        loss.backward()\n",
    "        optimizer.step()\n",
    "\n",
    "        totalLoss += loss.item()\n",
    "        totalCorrect += GetNumCorrect(preds, labels)\n",
    "        clear_output()\n",
    "        counter += len(labels)\n",
    "        print(\"{}/{}\".format(counter, len(data)))\n",
    "        print(\"epoch: {}\\nTotalCorrect: {}\\nTotalLoss: {}\\n\\nTime: {:3.1f}s\\nAccuracy: {}\\n\\n\".format(epoch, totalCorrect, totalLoss, time.time() - t, totalCorrect.item() / counter))\n"
   ]
  },
  {
   "cell_type": "code",
   "execution_count": 9,
   "metadata": {},
   "outputs": [],
   "source": [
    "torch.save(network.state_dict(), \"NetworkModel.pt\")"
   ]
  },
  {
   "cell_type": "code",
   "execution_count": 10,
   "metadata": {},
   "outputs": [],
   "source": [
    "network1 = Network()\n",
    "network1.double()\n",
    "network1.load_state_dict(torch.load(\"NetworkModel.pt\"))"
   ]
  },
  {
   "cell_type": "code",
   "execution_count": 11,
   "metadata": {},
   "outputs": [],
   "source": [
    "data.testmode()\n",
    "testloader = DataLoader(data, batch_size = batchsize, shuffle = True)"
   ]
  },
  {
   "cell_type": "code",
   "execution_count": 12,
   "metadata": {},
   "outputs": [
    {
     "name": "stdout",
     "output_type": "stream",
     "text": [
      "6890/6890\n",
      "3334| 100\n",
      " 218|3238\n",
      "Accuracy: 0.9538461538461539\n"
     ]
    }
   ],
   "source": [
    "batch = next(iter(testloader))\n",
    "from sklearn.metrics import confusion_matrix\n",
    "confmat = np.zeros((2, 2))\n",
    "\n",
    "counter = 0\n",
    "totalCorrect = 0 \n",
    "for batch in testloader:\n",
    "    images, labels = batch\n",
    "\n",
    "    # forward pass + calculate loss\n",
    "    preds = network1(images)\n",
    "    confmat += confusion_matrix(labels, preds.argmax(dim = 1).numpy())\n",
    "    clear_output()\n",
    "    counter += len(labels)\n",
    "    totalCorrect += GetNumCorrect(preds, labels)\n",
    "    print(\"{}/{}\".format(counter, len(data)))\n",
    "    print(\"{:4.0f}|{:4.0f}\\n{:4.0f}|{:4.0f}\".format(confmat[0, 0], confmat[0, 1], confmat[1, 0], confmat[1, 1]))\n",
    "    print(\"Accuracy: {}\".format(totalCorrect.item()/counter))"
   ]
  },
  {
   "cell_type": "code",
   "execution_count": 13,
   "metadata": {},
   "outputs": [
    {
     "data": {
      "text/plain": [
       "0.9538461538461539"
      ]
     },
     "execution_count": 13,
     "metadata": {},
     "output_type": "execute_result"
    },
    {
     "data": {
      "image/png": "[encoded data removed]",
      "text/plain": [
       "<Figure size 432x288 with 1 Axes>"
      ]
     },
     "metadata": {
      "needs_background": "light"
     },
     "output_type": "display_data"
    }
   ],
   "source": [
    "image, label = data[1]\n",
    "plt.imshow(torch.transpose(image, -3, 2))"
   ]
  },
  {
   "cell_type": "code",
   "execution_count": 26,
   "metadata": {},
   "outputs": [
    {
     "name": "stdout",
     "output_type": "stream",
     "text": [
      "\u001b[0;32;47m Bright Green  \n",
      "\n"
     ]
    }
   ],
   "source": [
    "print(\" Bright Green  \\n\")"
   ]
  },
  {
   "cell_type": "code",
   "execution_count": null,
   "metadata": {},
   "outputs": [],
   "source": []
  }
 ],
 "metadata": {
  "kernelspec": {
   "display_name": "Python 3",
   "language": "python",
   "name": "python3"
  },
  "language_info": {
   "codemirror_mode": {
    "name": "ipython",
    "version": 3
   },
   "file_extension": ".py",
   "mimetype": "text/x-python",
   "name": "python",
   "nbconvert_exporter": "python",
   "pygments_lexer": "ipython3",
   "version": "3.7.1"
  }
 },
 "nbformat": 4,
 "nbformat_minor": 2
}
