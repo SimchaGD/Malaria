{
 "cells": [
  {
   "cell_type": "markdown",
   "metadata": {},
   "source": [
    "# Trying CNN "
   ]
  },
  {
   "cell_type": "code",
   "execution_count": 12,
   "metadata": {},
   "outputs": [],
   "source": [
    "import torch\n",
    "import pandas as pd\n",
    "import numpy as np\n",
    "import torchvision\n",
    "from torchvision import transforms\n",
    "import torch.nn.functional as F\n",
    "from torch.utils.data import DataLoader, Dataset\n",
    "import time\n",
    "\n",
    "import torch.nn as nn\n",
    "import torch.nn.functional as F\n",
    "import torch.optim as optim\n",
    "\n",
    "from tqdm import tqdm as tqdm\n",
    "from IPython.display import clear_output\n",
    "\n",
    "from Network import *\n",
    "from TorchMalaria import *\n",
    "\n",
    "import matplotlib.pyplot as plt\n",
    "from skimage.transform import resize\n",
    "\n",
    "torch.set_num_threads(2)"
   ]
  },
  {
   "cell_type": "code",
   "execution_count": 2,
   "metadata": {},
   "outputs": [],
   "source": [
    "data = DataMalaria(\"list_of_imagenames_with_label.csv\", transform=torchvision.transforms.ToTensor())"
   ]
  },
  {
   "cell_type": "code",
   "execution_count": 5,
   "metadata": {},
   "outputs": [
    {
     "data": {
      "text/plain": [
       "137.79"
      ]
     },
     "execution_count": 5,
     "metadata": {},
     "output_type": "execute_result"
    }
   ],
   "source": [
    "batchsize = 200\n",
    "dataloader = DataLoader(data, batch_size = batchsize, shuffle = True)\n",
    "len(data)/batchsize"
   ]
  },
  {
   "cell_type": "code",
   "execution_count": 4,
   "metadata": {},
   "outputs": [
    {
     "name": "stderr",
     "output_type": "stream",
     "text": [
      "C:\\Users\\simcha\\Anaconda3\\lib\\site-packages\\skimage\\transform\\_warps.py:105: UserWarning: The default mode, 'constant', will be changed to 'reflect' in skimage 0.15.\n",
      "  warn(\"The default mode, 'constant', will be changed to 'reflect' in \"\n"
     ]
    },
    {
     "data": {
      "image/png": "[encoded data removed]",
      "text/plain": [
       "<Figure size 432x288 with 1 Axes>"
      ]
     },
     "metadata": {
      "needs_background": "light"
     },
     "output_type": "display_data"
    }
   ],
   "source": [
    "image, label = data[0]\n",
    "data.imshowsingle(0)"
   ]
  },
  {
   "cell_type": "code",
   "execution_count": 5,
   "metadata": {},
   "outputs": [],
   "source": [
    "dataIter = iter(dataloader)\n",
    "\n",
    "batch = next(dataIter)\n",
    "images, labels = batch\n",
    "if len(images) < 10:\n",
    "    # make grid takes tensor as arg\n",
    "    # tensor : (batchsize, channels, height, width)\n",
    "    grid = torchvision.utils.make_grid(images)\n",
    "    fig = plt.figure(figsize=(10, 80))\n",
    "    plt.imshow(grid.numpy().transpose((1, 2, 0)))\n",
    "    plt.axis('off')\n",
    "    plt.title(labels.numpy())\n",
    "    plt.show()"
   ]
  },
  {
   "cell_type": "code",
   "execution_count": 17,
   "metadata": {},
   "outputs": [
    {
     "name": "stdout",
     "output_type": "stream",
     "text": [
      "Loss 1: 0.6914164057144143\n",
      "Loss 2: 0.6896339899842711\n"
     ]
    }
   ],
   "source": [
    "# initialize network and optimizer\n",
    "network = Network()\n",
    "network.double()\n",
    "optimizer = optim.Adam(network.parameters(), lr = 0.01)\n",
    "\n",
    "batch = next(iter(dataloader))\n",
    "images, labels = batch\n",
    "\n",
    "# forward pass + calculate loss\n",
    "preds = network(images)\n",
    "loss = F.cross_entropy(preds.double(), labels)\n",
    "\n",
    "# backward propagation + updating weights\n",
    "loss.backward()\n",
    "optimizer.step()\n",
    "\n",
    "################################\n",
    "\n",
    "print(\"Loss 1: {}\".format(loss.item()))\n",
    "preds = network(images.double())\n",
    "loss = F.cross_entropy(preds, labels)\n",
    "print(\"Loss 2: {}\".format(loss.item()))"
   ]
  },
  {
   "cell_type": "code",
   "execution_count": 14,
   "metadata": {},
   "outputs": [
    {
     "name": "stderr",
     "output_type": "stream",
     "text": [
      "\n",
      "\n",
      "\n",
      "                                                                               \n",
      "                                                                               \n",
      "\n",
      "\n",
      "                                                                               \n",
      "\n"
     ]
    },
    {
     "name": "stdout",
     "output_type": "stream",
     "text": [
      "epoch: 9\n",
      "TotalCorrect: 18936\n",
      "TotalLoss: 80.23534909695138\n",
      "\n",
      "Time: 370.32934379577637\n",
      "Accuracy: 0.6871325930764206\n",
      "\n",
      "\n"
     ]
    },
    {
     "name": "stderr",
     "output_type": "stream",
     "text": [
      "  8%|███▏                                 | 35/414.0 [1:29:10<25:20,  4.01s/it]\n",
      "100%|████████████████████████████████████| 414/414.0 [1:26:47<00:00,  3.03s/it]\n",
      "\n",
      "\n",
      "100%|██████████████████████████████████| 1380/1380.0 [1:04:17<00:00,  2.57s/it]\n",
      "\n",
      "  1%|▎                                     | 3/414.0 [1:04:46<18:51,  2.75s/it]"
     ]
    }
   ],
   "source": [
    "network = Network()\n",
    "network.double()\n",
    "optimizer = optim.Adam(network.parameters(), lr = 0.005)\n",
    "\n",
    "nEpochs = 10\n",
    "pbar = tqdm(total = np.ceil(len(data)/batchsize)*nEpochs)\n",
    "for epoch in range(nEpochs):\n",
    "    totalLoss = 0\n",
    "    totalCorrect = 0\n",
    "    t = time.time()\n",
    "    \n",
    "    for batch in dataloader:\n",
    "        images, labels = batch\n",
    "        \n",
    "        # forward pass + calculate loss\n",
    "        preds = network(images)\n",
    "        loss = F.cross_entropy(preds, labels)\n",
    "\n",
    "        # PyTorch telt alle gradienten op. Daarom moet de gradient gereset worden.\n",
    "        optimizer.zero_grad()\n",
    "\n",
    "        # backward propagation + updating weights\n",
    "        loss.backward()\n",
    "        optimizer.step()\n",
    "\n",
    "        totalLoss += loss.item()\n",
    "        totalCorrect += GetNumCorrect(preds, labels)\n",
    "        clear_output()\n",
    "        pbar.update(1)\n",
    "\n",
    "    pbar.write(\"epoch: {}\\nTotalCorrect: {}\\nTotalLoss: {}\\n\\nTime: {}\\nAccuracy: {}\\n\\n\".format(epoch, totalCorrect, totalLoss, time.time() - t, totalCorrect.item() / len(data)))\n"
   ]
  },
  {
   "cell_type": "code",
   "execution_count": 10,
   "metadata": {},
   "outputs": [],
   "source": [
    "def GetNumCorrect(pred, labels):\n",
    "    return pred.argmax(dim = 1).eq(labels).sum()"
   ]
  },
  {
   "cell_type": "code",
   "execution_count": 15,
   "metadata": {},
   "outputs": [
    {
     "name": "stderr",
     "output_type": "stream",
     "text": [
      "                                                                               \n",
      "                                                                               \n",
      "\n",
      "\n",
      "                                                                               \n",
      "\n"
     ]
    },
    {
     "name": "stdout",
     "output_type": "stream",
     "text": [
      "epoch: 9\n",
      "TotalCorrect: 18936\n",
      "TotalLoss: 80.23534909695138\n",
      "\n",
      "Time: 370.4342818260193\n",
      "Accuracy: 0.6871325930764206\n",
      "\n",
      "\n"
     ]
    },
    {
     "name": "stderr",
     "output_type": "stream",
     "text": [
      "  8%|███▏                                 | 35/414.0 [1:29:10<25:20,  4.01s/it]\n",
      "100%|████████████████████████████████████| 414/414.0 [1:26:47<00:00,  3.03s/it]\n",
      "\n",
      "\n",
      "100%|██████████████████████████████████| 1380/1380.0 [1:04:17<00:00,  2.57s/it]\n",
      "\n",
      "  1%|▎                                     | 3/414.0 [1:04:46<18:51,  2.75s/it]"
     ]
    }
   ],
   "source": [
    "pbar.write(\"epoch: {}\\nTotalCorrect: {}\\nTotalLoss: {}\\n\\nTime: {}\\nAccuracy: {}\\n\\n\".format(epoch, totalCorrect, totalLoss, time.time() - t, totalCorrect.item() / len(data)))"
   ]
  },
  {
   "cell_type": "code",
   "execution_count": 26,
   "metadata": {},
   "outputs": [
    {
     "data": {
      "text/plain": [
       "array([[67,  9],\n",
       "       [17, 65]], dtype=int64)"
      ]
     },
     "execution_count": 26,
     "metadata": {},
     "output_type": "execute_result"
    }
   ],
   "source": [
    "images, labels = batch\n",
    "preds = network(images)\n",
    "\n",
    "from sklearn.metrics import confusion_matrix\n",
    "confusion_matrix(labels, preds.argmax(dim = 1).numpy())"
   ]
  },
  {
   "cell_type": "code",
   "execution_count": 25,
   "metadata": {},
   "outputs": [
    {
     "data": {
      "text/plain": [
       "array([0, 0, 0, 0, 1, 0, 0, 0, 0, 1, 1, 1, 0, 0, 0, 0, 0, 1, 1, 0, 1, 0,\n",
       "       1, 1, 1, 1, 0, 1, 1, 0, 0, 0, 1, 1, 0, 0, 1, 0, 0, 1, 0, 0, 1, 1,\n",
       "       0, 0, 0, 0, 1, 0, 0, 1, 1, 0, 1, 1, 1, 1, 0, 1, 0, 0, 1, 0, 1, 1,\n",
       "       0, 0, 0, 1, 1, 1, 1, 0, 1, 0, 0, 0, 1, 0, 0, 1, 1, 1, 1, 0, 0, 0,\n",
       "       0, 1, 1, 1, 1, 0, 0, 1, 0, 1, 0, 0, 0, 0, 0, 1, 0, 1, 0, 0, 1, 1,\n",
       "       0, 1, 0, 0, 0, 1, 0, 0, 1, 1, 0, 0, 0, 1, 0, 1, 0, 1, 1, 0, 0, 0,\n",
       "       1, 1, 1, 0, 0, 1, 1, 1, 1, 1, 1, 0, 0, 1, 1, 1, 1, 0, 0, 1, 0, 0,\n",
       "       1, 1, 0, 0], dtype=int64)"
      ]
     },
     "execution_count": 25,
     "metadata": {},
     "output_type": "execute_result"
    }
   ],
   "source": []
  }
 ],
 "metadata": {
  "kernelspec": {
   "display_name": "Python 3",
   "language": "python",
   "name": "python3"
  },
  "language_info": {
   "codemirror_mode": {
    "name": "ipython",
    "version": 3
   },
   "file_extension": ".py",
   "mimetype": "text/x-python",
   "name": "python",
   "nbconvert_exporter": "python",
   "pygments_lexer": "ipython3",
   "version": "3.7.1"
  }
 },
 "nbformat": 4,
 "nbformat_minor": 2
}
